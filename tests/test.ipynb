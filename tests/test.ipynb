{
 "cells": [
  {
   "cell_type": "code",
   "execution_count": 1,
   "metadata": {},
   "outputs": [],
   "source": [
    "import sys\n",
    "sys.path.append(\"..\")\n",
    "\n",
    "import spacy\n",
    "from src.iuextract.extract import label_ius, segment_ius\n",
    "from src.iuextract.utils import iu2str, gen_iu_collection, get_iu_str_list\n",
    "from src.iuextract.data import clean_str\n",
    "import re\n",
    "nlp = spacy.load(\"en_core_web_lg\")\n",
    "\n",
    "text = \"Apollo 11 (July 16–24, 1969) was the American spaceflight that first landed humans on the Moon. Commander Neil Armstrong and Lunar Module Pilot Buzz Aldrin landed the Apollo Lunar Module Eagle on July 20, 1969, at 20:17 UTC, and Armstrong became the first person to step onto the Moon's surface six hours and 39 minutes later, on July 21 at 02:56 UTC. Aldrin joined him 19 minutes later, and they spent about two and a quarter hours together exploring the site they had named Tranquility Base upon landing. Armstrong and Aldrin collected 47.5 pounds (21.5 kg) of lunar material to bring back to Earth as pilot Michael Collins flew the Command Module Columbia in lunar orbit, and were on the Moon's surface for 21 hours, 36 minutes before lifting off to rejoin Columbia.\"\n",
    "parsed = nlp(text)"
   ]
  },
  {
   "cell_type": "code",
   "execution_count": 2,
   "metadata": {},
   "outputs": [
    {
     "name": "stdout",
     "output_type": "stream",
     "text": [
      "['Apollo 11 was the American spaceflight', '(July 16–24, 1969)', 'that first landed humans on the Moon.', 'Commander Neil Armstrong and Lunar Module Pilot Buzz Aldrin landed the Apollo Lunar Module Eagle', 'on July 20, 1969,', 'at 20:17 UTC,', 'and Armstrong became the first person to step six hours and 39 minutes later, on July 21 at 02:56 UTC.', \"onto the Moon 's surface\", 'Aldrin joined him 19 minutes later,', 'and they spent about two and a quarter hours together exploring the site', 'they had named Tranquility Base', 'upon landing.', 'Armstrong and Aldrin collected 47.5 pounds of lunar material and were for 21 hours,', '(21.5 kg)', 'to bring back to Earth', 'as pilot Michael Collins flew the Command Module Columbia in lunar orbit,', \"on the Moon 's surface\", '36 minutes before lifting off', 'to rejoin Columbia.']\n"
     ]
    }
   ],
   "source": [
    "label_ius(parsed.sents)\n",
    "print(get_iu_str_list(parsed))"
   ]
  },
  {
   "cell_type": "code",
   "execution_count": 3,
   "metadata": {},
   "outputs": [
    {
     "data": {
      "text/plain": [
       "['Apollo 11 was the American spaceflight',\n",
       " '(July 16–24, 1969)',\n",
       " 'that first landed humans on the Moon.',\n",
       " 'Commander Neil Armstrong and Lunar Module Pilot Buzz Aldrin landed the Apollo Lunar Module Eagle',\n",
       " 'on July 20, 1969,',\n",
       " 'at 20:17 UTC,',\n",
       " 'and Armstrong became the first person to step six hours and 39 minutes later, on July 21 at 02:56 UTC.',\n",
       " \"onto the Moon 's surface\",\n",
       " 'Aldrin joined him 19 minutes later,',\n",
       " 'and they spent about two and a quarter hours together exploring the site',\n",
       " 'they had named Tranquility Base',\n",
       " 'upon landing.',\n",
       " 'Armstrong and Aldrin collected 47.5 pounds of lunar material and were for 21 hours,',\n",
       " '(21.5 kg)',\n",
       " 'to bring back to Earth',\n",
       " 'as pilot Michael Collins flew the Command Module Columbia in lunar orbit,',\n",
       " \"on the Moon 's surface\",\n",
       " '36 minutes before lifting off',\n",
       " 'to rejoin Columbia.']"
      ]
     },
     "execution_count": 3,
     "metadata": {},
     "output_type": "execute_result"
    }
   ],
   "source": [
    "coll, disc = gen_iu_collection(parsed)\n",
    "res = []\n",
    "for key, value in coll.items():\n",
    "    s = [str(tok) for tok in value]\n",
    "    s = ' '.join(s)\n",
    "    s = clean_str(s)\n",
    "    s = re.sub(r\"\\s+\\,\", \",\", s)\n",
    "    s = re.sub(r\"\\s+\\:\", \":\", s)\n",
    "    s = re.sub(r\"\\s+\\;\", \";\", s)\n",
    "    s = re.sub(r\"\\s+\\.\", \".\", s)\n",
    "    s = re.sub(r\"\\(\\s+\", \"(\", s)\n",
    "    s = re.sub(r\"\\s+\\)\", \")\", s)\n",
    "    s = re.sub(r\"\\[\\s+\", \"[\", s)\n",
    "    s = re.sub(r\"\\s+\\]\", \"]\", s)\n",
    "    s = re.sub(r\"\\{\\s+\", \"{\", s)\n",
    "    s = re.sub(r\"\\s+\\}\", \"}\", s)\n",
    "    res.append(s)\n",
    "res"
   ]
  },
  {
   "cell_type": "code",
   "execution_count": 4,
   "metadata": {},
   "outputs": [
    {
     "data": {
      "text/plain": [
       "['Apollo 11 was the American spaceflight',\n",
       " '(July 16–24, 1969)',\n",
       " 'that first landed humans on the Moon.',\n",
       " 'Commander Neil Armstrong and Lunar Module Pilot Buzz Aldrin landed the Apollo Lunar Module Eagle',\n",
       " 'on July 20, 1969,',\n",
       " 'at 20:17 UTC,',\n",
       " 'and Armstrong became the first person to step six hours and 39 minutes later, on July 21 at 02:56 UTC.',\n",
       " \"onto the Moon 's surface\",\n",
       " 'Aldrin joined him 19 minutes later,',\n",
       " 'and they spent about two and a quarter hours together exploring the site',\n",
       " 'they had named Tranquility Base',\n",
       " 'upon landing.',\n",
       " 'Armstrong and Aldrin collected 47.5 pounds of lunar material and were for 21 hours,',\n",
       " '(21.5 kg)',\n",
       " 'to bring back to Earth',\n",
       " 'as pilot Michael Collins flew the Command Module Columbia in lunar orbit,',\n",
       " \"on the Moon 's surface\",\n",
       " '36 minutes before lifting off',\n",
       " 'to rejoin Columbia.']"
      ]
     },
     "execution_count": 4,
     "metadata": {},
     "output_type": "execute_result"
    }
   ],
   "source": [
    "segs = segment_ius(text, mode='str')\n",
    "segs"
   ]
  }
 ],
 "metadata": {
  "kernelspec": {
   "display_name": "base",
   "language": "python",
   "name": "python3"
  },
  "language_info": {
   "codemirror_mode": {
    "name": "ipython",
    "version": 3
   },
   "file_extension": ".py",
   "mimetype": "text/x-python",
   "name": "python",
   "nbconvert_exporter": "python",
   "pygments_lexer": "ipython3",
   "version": "3.9.13"
  }
 },
 "nbformat": 4,
 "nbformat_minor": 2
}
