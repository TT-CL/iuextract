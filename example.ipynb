{
 "cells": [
  {
   "cell_type": "code",
   "execution_count": 1,
   "metadata": {},
   "outputs": [],
   "source": [
    "#Import libraries\n",
    "from pprint import pprint\n",
    "import spacy\n",
    "from iuextract.extract import label_ius, segment_ius\n",
    "from iuextract.iu_utils import doc2iu_segs, doc2iu_str\n",
    "SPACY_MODEL = \"en_core_web_lg\" # a different model can be defined\n",
    "nlp = spacy.load(SPACY_MODEL)"
   ]
  },
  {
   "cell_type": "code",
   "execution_count": 2,
   "metadata": {},
   "outputs": [],
   "source": [
    "text = \"My dog, Chippy, just won its first grooming competition.\""
   ]
  },
  {
   "cell_type": "markdown",
   "metadata": {},
   "source": [
    "# Parsing raw text\n",
    "\n",
    "You can parse raw text and obtain the segments as strings with the following"
   ]
  },
  {
   "cell_type": "code",
   "execution_count": 3,
   "metadata": {},
   "outputs": [
    {
     "name": "stdout",
     "output_type": "stream",
     "text": [
      "D1|My dog, \n",
      "2|Chippy, \n",
      "D1|just won its first grooming competition.\n"
     ]
    }
   ],
   "source": [
    "segs = segment_ius(text, mode='str')\n",
    "print(segs)"
   ]
  },
  {
   "cell_type": "markdown",
   "metadata": {},
   "source": [
    "If you need to run this command multiple times, make sure to pass the spacy model as an object.\n",
    "This avoids multiple loads of the same model in RAM."
   ]
  },
  {
   "cell_type": "code",
   "execution_count": 4,
   "metadata": {},
   "outputs": [
    {
     "name": "stdout",
     "output_type": "stream",
     "text": [
      "D1|My dog, \n",
      "2|Chippy, \n",
      "D1|just won its first grooming competition.\n"
     ]
    }
   ],
   "source": [
    "segs = segment_ius(text, mode='str', spacy_model=nlp)\n",
    "print(segs)"
   ]
  },
  {
   "cell_type": "markdown",
   "metadata": {},
   "source": [
    "You can also obtain the segments as a python object"
   ]
  },
  {
   "cell_type": "code",
   "execution_count": 5,
   "metadata": {},
   "outputs": [
    {
     "data": {
      "text/plain": [
       "({'0-2-R1,R3': [My, dog, ,, just, won, its, first, grooming, competition, .],\n",
       "  '0-1-R3.2,R3': [Chippy, ,]},\n",
       " {'0-2-R1,R3'})"
      ]
     },
     "execution_count": 5,
     "metadata": {},
     "output_type": "execute_result"
    }
   ],
   "source": [
    "segs = segment_ius(text, mode='obj', spacy_model=nlp)\n",
    "segs"
   ]
  },
  {
   "cell_type": "markdown",
   "metadata": {},
   "source": [
    "# Adding IU labels to a spacy doc\n",
    "The best way to use IUExtract is to add the IU labels to an existing spacy object.\n",
    "This can be done with the `label_ius` function."
   ]
  },
  {
   "cell_type": "code",
   "execution_count": 6,
   "metadata": {},
   "outputs": [
    {
     "name": "stdout",
     "output_type": "stream",
     "text": [
      "D1|My dog, \n",
      "2|Chippy, \n",
      "D1|just won its first grooming competition.\n"
     ]
    }
   ],
   "source": [
    "parsed_text = nlp(text)\n",
    "label_ius(parsed_text)\n",
    "print(doc2iu_str(parsed_text))"
   ]
  },
  {
   "cell_type": "markdown",
   "metadata": {},
   "source": [
    "You can also print each unit row by row with each Discontinuous IU joined in a single row"
   ]
  },
  {
   "cell_type": "code",
   "execution_count": 7,
   "metadata": {},
   "outputs": [
    {
     "name": "stdout",
     "output_type": "stream",
     "text": [
      "My dog, just won its first grooming competition.\n",
      "Chippy,\n"
     ]
    }
   ],
   "source": [
    "segs = doc2iu_segs(parsed_text, gold=False)\n",
    "print('\\n'.join(segs))"
   ]
  },
  {
   "cell_type": "markdown",
   "metadata": {},
   "source": [
    "Look at `data.py` and `gold.py` for ideas on how to import data and gold standard human annotation. For more utilities check `iu_utils.py`."
   ]
  }
 ],
 "metadata": {
  "kernelspec": {
   "display_name": "base",
   "language": "python",
   "name": "python3"
  },
  "language_info": {
   "codemirror_mode": {
    "name": "ipython",
    "version": 3
   },
   "file_extension": ".py",
   "mimetype": "text/x-python",
   "name": "python",
   "nbconvert_exporter": "python",
   "pygments_lexer": "ipython3",
   "version": "3.9.13"
  }
 },
 "nbformat": 4,
 "nbformat_minor": 2
}
